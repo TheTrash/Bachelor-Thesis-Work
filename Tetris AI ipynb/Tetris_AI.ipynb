{
  "nbformat": 4,
  "nbformat_minor": 0,
  "metadata": {
    "colab": {
      "name": "Tetris AI.ipynb",
      "provenance": [],
      "collapsed_sections": [],
      "toc_visible": true,
      "machine_shape": "hm"
    },
    "kernelspec": {
      "name": "python3",
      "display_name": "Python 3"
    },
    "accelerator": "GPU"
  },
  "cells": [
    {
      "cell_type": "markdown",
      "metadata": {
        "id": "2TMsDXVx1qO1",
        "colab_type": "text"
      },
      "source": [
        "#**Tesi Mattia Polticchia**\n",
        "\n",
        "---\n",
        "\n",
        "\n",
        "\n",
        "---\n",
        "\n"
      ]
    },
    {
      "cell_type": "code",
      "metadata": {
        "id": "77lwpDdBBrhf",
        "colab_type": "code",
        "colab": {}
      },
      "source": [
        "!pip install keras==2.3.1\n",
        "!pip install keras-rl2\n",
        "!pip install gym-tetris\n",
        "!pip install nes-py\n",
        "!pip install tensorflow-gpu==2.0.0-beta1\n",
        "!pip install numpy==1.16.4"
      ],
      "execution_count": 0,
      "outputs": []
    },
    {
      "cell_type": "code",
      "metadata": {
        "id": "GmZhjOwjBXpu",
        "colab_type": "code",
        "colab": {}
      },
      "source": [
        "import gym_tetris as gym\n",
        "print(gym.__path__)\n",
        "#Check if GPU is used\n",
        "import tensorflow as tf\n",
        "tf.test.gpu_device_name()\n",
        "\n",
        "from google.colab import drive\n",
        "drive.mount('/content/drive')\n"
      ],
      "execution_count": 0,
      "outputs": []
    },
    {
      "cell_type": "code",
      "metadata": {
        "colab_type": "code",
        "id": "CvbB405BvRk4",
        "colab": {
          "base_uri": "https://localhost:8080/",
          "height": 568
        },
        "outputId": "8b2c1e9c-c517-437c-f1ce-8fdff4bd5ed0"
      },
      "source": [
        "import sys\n",
        "import numpy as no\n",
        "import pickle\n",
        "\n",
        "from nes_py.wrappers import JoypadSpace\n",
        "import gym_tetris\n",
        "from gym_tetris.actions import MOVEMENT, SIMPLE_MOVEMENT, TRAIN_MOVEMENT\n",
        "\n",
        "from tensorflow.keras.models import Sequential\n",
        "from tensorflow.keras.layers import Dense, Activation, Flatten, Convolution2D, Permute\n",
        "from tensorflow.keras.optimizers import Adam\n",
        "\n",
        "\n",
        "from rl.agents.dqn import DQNAgent\n",
        "from rl.policy import EpsGreedyQPolicy, LinearAnnealedPolicy, BoltzmannQPolicy, BoltzmannGumbelQPolicy\n",
        "from rl.memory import SequentialMemory\n",
        "from rl.callbacks import FileLogger, ModelIntervalCheckpoint\n",
        "\n",
        "#v0 reward score\n",
        "#v1 reward lines\n",
        "#v2 reward score - penalize height\n",
        "#v3 reward lines - penalize height\n",
        "\n",
        "env = gym_tetris.make('TetrisA-v3')\n",
        "env = JoypadSpace(env, TRAIN_MOVEMENT)\n",
        "\n",
        "\n",
        "#this can be the output range 0-3 for the move\n",
        "nb_actions = env.action_space.n\n",
        "input_shape = env.observation_space.shape\n",
        "\n",
        "print(\"Num actions: \", nb_actions)\n",
        "\n",
        "#Build the NN\n",
        "model = Sequential()\n",
        "model.add(Convolution2D(32, (8, 8), strides=(4, 4),input_shape=input_shape))\n",
        "model.add(Activation('relu'))\n",
        "model.add(Convolution2D(64, (4, 4), strides=(2, 2),input_shape=input_shape))\n",
        "model.add(Activation('relu'))\n",
        "model.add(Convolution2D(64, (3, 3), strides=(1, 1),input_shape=input_shape))\n",
        "model.add(Flatten())\n",
        "model.add(Dense(512))\n",
        "model.add(Activation('relu'))\n",
        "model.add(Dense(nb_actions))\n",
        "model.add(Activation('softmax'))\n",
        "print(model.summary())\n"
      ],
      "execution_count": 1,
      "outputs": [
        {
          "output_type": "stream",
          "text": [
            "Num actions:  4\n",
            "Model: \"sequential\"\n",
            "_________________________________________________________________\n",
            "Layer (type)                 Output Shape              Param #   \n",
            "=================================================================\n",
            "conv2d (Conv2D)              (None, 59, 63, 32)        6176      \n",
            "_________________________________________________________________\n",
            "activation (Activation)      (None, 59, 63, 32)        0         \n",
            "_________________________________________________________________\n",
            "conv2d_1 (Conv2D)            (None, 28, 30, 64)        32832     \n",
            "_________________________________________________________________\n",
            "activation_1 (Activation)    (None, 28, 30, 64)        0         \n",
            "_________________________________________________________________\n",
            "conv2d_2 (Conv2D)            (None, 26, 28, 64)        36928     \n",
            "_________________________________________________________________\n",
            "flatten (Flatten)            (None, 46592)             0         \n",
            "_________________________________________________________________\n",
            "dense (Dense)                (None, 512)               23855616  \n",
            "_________________________________________________________________\n",
            "activation_2 (Activation)    (None, 512)               0         \n",
            "_________________________________________________________________\n",
            "dense_1 (Dense)              (None, 4)                 2052      \n",
            "_________________________________________________________________\n",
            "activation_3 (Activation)    (None, 4)                 0         \n",
            "=================================================================\n",
            "Total params: 23,933,604\n",
            "Trainable params: 23,933,604\n",
            "Non-trainable params: 0\n",
            "_________________________________________________________________\n",
            "None\n"
          ],
          "name": "stdout"
        }
      ]
    },
    {
      "cell_type": "code",
      "metadata": {
        "id": "14ZkK7nBqWJL",
        "colab_type": "code",
        "colab": {}
      },
      "source": [
        "policy = BoltzmannGumbelQPolicy()\n",
        "memory= SequentialMemory(limit=50000, window_length = 1)\n",
        "dqn = DQNAgent(model = model, nb_actions = nb_actions , memory=memory, train_interval=1,\n",
        "               nb_steps_warmup=5000, target_model_update=10000, policy=policy)\n",
        "\n",
        "dqn.compile(Adam(lr=1e-4), metrics=['mae'])\n",
        "\n",
        "hist = dqn.fit(env, nb_steps=1500000, visualize=False, log_interval=50000)\n",
        "\n",
        "weights_filename = '/content/drive/My Drive/Colab Notebooks/dqn_{}_weights.h5f'.format(\"gym_tetris\")\n",
        "dqn.save_weights(weights_filename, overwrite=True)\n",
        "\n",
        "with open('/content/drive/My Drive/Colab Notebooks/trainHistoryDict', 'wb') as file_pi:\n",
        "        pickle.dump(hist.history, file_pi)"
      ],
      "execution_count": 0,
      "outputs": []
    },
    {
      "cell_type": "code",
      "metadata": {
        "id": "W5ksDILpylWt",
        "colab_type": "code",
        "colab": {}
      },
      "source": [
        "#@title Reopen\n",
        "#reopen the fit function but i'm not quite sure for that\n",
        "weights_filename= '/content/dqn_{}_weights.h5f'.format('gym_tetris')\n",
        "dqn.load_weights(weights_filename)\n",
        "dqn.fit(env, nb_steps=500000, visualize=False, log_interval=50000)\n",
        "dqn.save_weights(weights_filename, overwrite=True)\n"
      ],
      "execution_count": 0,
      "outputs": []
    },
    {
      "cell_type": "code",
      "metadata": {
        "id": "ymkrZ2RnvJQl",
        "colab_type": "code",
        "colab": {}
      },
      "source": [
        "#@title Reload \n",
        "#Reload the weight and make test\n",
        "\n",
        "policy = BoltzmannQPolicy()\n",
        "memory= SequentialMemory(limit=50000, window_length = 1)\n",
        "dqntest = DQNAgent(model = model, nb_actions = num_actions , memory=memory, train_interval=4,\n",
        "               nb_steps_warmup=5000, target_model_update=100, policy=policy)\n",
        "dqntest.compile(Adam(lr=1e-4), metrics=['mae'])\n",
        "\n",
        "weights_filename= '/content/drive/My Drive/Colab Notebooks/dqn_{}_weights.h5f'.format(\"gym_tetris\")\n",
        "dqntest.load_weights(weights_filename)\n",
        "nb_episodes = 10 \n",
        "\n",
        "dqntest.test(env,nb_episodes=nb_episodes,visualize=False)"
      ],
      "execution_count": 0,
      "outputs": []
    },
    {
      "cell_type": "code",
      "metadata": {
        "id": "k6bOKpx5dQPU",
        "colab_type": "code",
        "colab": {}
      },
      "source": [
        "#@title print model\n",
        "from tensorflow.keras.utils import plot_model\n",
        "plot_model(model, show_shapes=True, show_layer_names= True, expand_nested=True,to_file='model.png')"
      ],
      "execution_count": 0,
      "outputs": []
    }
  ]
}