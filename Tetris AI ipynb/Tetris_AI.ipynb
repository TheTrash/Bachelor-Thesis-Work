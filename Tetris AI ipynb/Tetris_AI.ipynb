{
 "cells": [
  {
   "cell_type": "code",
   "execution_count": null,
   "metadata": {
    "colab": {},
    "colab_type": "code",
    "id": "Qdr8Mj2oaeNc"
   },
   "outputs": [],
   "source": [
    "from nes_py.wrappers import JoypadSpace\n",
    "\n",
    "import gym_tetris\n",
    "from gym_tetris.actions import MOVEMENT, SIMPLE_MOVEMENT , TRAIN_MOVEMENT\n",
    "from stable_baselines.common.vec_env import DummyVecEnv\n",
    "from stable_baselines.deepq.policies import MlpPolicy, CnnPolicy\n",
    "from stable_baselines import DQN\n",
    "\n",
    "total_steps = 100\n",
    "mode = 'TetrisA-v2'\n",
    "model = mode + \"_DQN_\"+str(total_steps)+\"k\"\n",
    "\n",
    "print(\"Caricherò il file: \", model)\n",
    "\n",
    "env = gym_tetris.make(mode)\n",
    "env = JoypadSpace(env, SIMPLE_MOVEMENT)\n",
    "env = DummyVecEnv([lambda: env])\n",
    "\n",
    "#model = DQN(CnnPolicy, env, verbose=1)\n",
    "model = DQN.load(model,env=env)\n",
    "\n",
    "write_log(\"\\nRun \" + mode + \"\\nStarted with \"+str(total_steps)+\"k\\n\")\n",
    "print(\"Start \", mode)\n",
    "model.learn(total_timesteps=100000, callback=callback)\n",
    "write_log(\"\\nrun finished\\n\")\n",
    "\n",
    "total_steps+=100\n",
    "\n",
    "model.save(str(mode) + \"_DQN_\"+str(total_steps)+\"k\")\n",
    "del model"
   ]
  },
  {
   "cell_type": "code",
   "execution_count": null,
   "metadata": {
    "colab": {},
    "colab_type": "code",
    "id": "pD0ERcG5V-Yi"
   },
   "outputs": [],
   "source": [
    "def callback(_locals, _globals):\n",
    "    if _locals['_']%5000 == 0 and _locals['_'] != 0:\n",
    "        string = \"Steps: \" + str(_locals['_']) + \"\\n\"\n",
    "        string = string + \"Num_episodes: \" + str( _locals['num_episodes']) + \"\\n\"\n",
    "        string = string + \"episode rewards: \" +  str( _locals['episode_rewards']) + \"\\n\"\n",
    "        string = string + \"mean 100ep reward: \" + str( _locals['mean_100ep_reward']) + \"\\n\" \n",
    "        string = string + \"Number of Lines: \" + str(_locals['info']['number_of_lines'])\n",
    "        print(string)\n",
    "    if _locals['_'] == 99999:\n",
    "        string = \"Steps: \" + str(_locals['_']) + \"\\n\"\n",
    "        string = string + \"Num_episodes: \" + str( _locals['num_episodes']) + \"\\n\"\n",
    "        string = string + \"episode rewards: \" +  str( _locals['episode_rewards']) + \"\\n\"\n",
    "        string = string + \"mean 100ep reward: \" + str( _locals['mean_100ep_reward']) + \"\\n\" \n",
    "        string = string + \"Number of Lines: \" + str(_locals['info']['number_of_lines'])\n",
    "        print(\"sto scrivendo il log\")\n",
    "        write_log(string)\n",
    "        \n",
    "    return True # returns True, training continues.\n",
    "\n",
    "def write_log(stringa):\n",
    "    with open(\"file_learn_primo_test.txt\", \"a\") as file_object:\n",
    "        file_object.write(stringa)\n",
    "        file_object.close()"
   ]
  }
 ],
 "metadata": {
  "accelerator": "GPU",
  "colab": {
   "collapsed_sections": [],
   "name": "Untitled",
   "provenance": []
  },
  "kernelspec": {
   "display_name": "test_baseline",
   "language": "python",
   "name": "test_baseline"
  },
  "language_info": {
   "codemirror_mode": {
    "name": "ipython",
    "version": 3
   },
   "file_extension": ".py",
   "mimetype": "text/x-python",
   "name": "python",
   "nbconvert_exporter": "python",
   "pygments_lexer": "ipython3",
   "version": "3.6.8"
  }
 },
 "nbformat": 4,
 "nbformat_minor": 1
}