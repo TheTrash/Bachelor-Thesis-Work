{
  "nbformat": 4,
  "nbformat_minor": 0,
  "metadata": {
    "colab": {
      "name": "Tetris AI.ipynb",
      "provenance": [],
      "collapsed_sections": [],
      "toc_visible": true,
      "machine_shape": "hm"
    },
    "kernelspec": {
      "name": "python3",
      "display_name": "Python 3"
    },
    "accelerator": "GPU"
  },
  "cells": [
    {
      "cell_type": "markdown",
      "metadata": {
        "id": "2TMsDXVx1qO1",
        "colab_type": "text"
      },
      "source": [
        "#**Tesi Mattia Polticchia**\n",
        "\n",
        "---\n",
        "\n",
        "\n",
        "\n",
        "---\n",
        "\n"
      ]
    },
    {
      "cell_type": "markdown",
      "metadata": {
        "id": "3XDrOBPAV4J6",
        "colab_type": "text"
      },
      "source": [
        "Bug e problemi\n",
        "---\n",
        "Abbiamo dei problemi di: \n",
        "`[Tensorflow 2.0] AttributeError: Tensor.op is meaningless when eager execution is enabled`\n",
        "Una possibile soluzione è questo `train_interval=4` messo nella creazione dell' DQNAgent.\n",
        "\n",
        "Possibile step, creare una funzione che crei dei grafici coi dati dei vari train. Potrebbe essere interessante da mostrare nella tesi.\n",
        "\n",
        "---\n",
        "\n",
        "A quanto pare c'è una montagna di roba nelle commit di github che va accuratamente osservata."
      ]
    },
    {
      "cell_type": "markdown",
      "metadata": {
        "id": "0KkdCLVyXf58",
        "colab_type": "text"
      },
      "source": [
        "Modifiche nel tempo\n",
        "---\n",
        "* Cambiata la policy dopo una selezione fatta seguendo un articolo su un sito \n",
        "specialistico. Ritrovare il sito ( controllare telegram )\n",
        "\n",
        "* Rimossi alcuni parametri nella creazione del DQNAgent perché superflui in quanto già presenti nella dichiarazione dalla classe. Ha senso metterli solo  se si vogliono diversi valori rispetto agli standard.\n",
        "\n",
        "---\n",
        "##Rete neurale\n",
        "* Aggiunto il valore di dropout per evitare l'overfitting. Questo ha effettivamente portato a dei miglioramenti in tempo e in quantità di punti.\n",
        ">_Paper di 30 pagine da leggere - Inserire il titolo_\n",
        "* Modificata la struttura dei nodi e la dichiarazione dell'attivatore \\\\\n",
        "from :\n",
        "```\n",
        "agent.add(Dense(16))\n",
        "agent.add(Activation('relu'))\n",
        "```\n",
        "to : \\\\\n",
        " `model.add(Dense(16, activation='relu'))`\n",
        "\n",
        "\n",
        "---\n",
        "##Link vari\n",
        "* Creare un piccolo file log delle modifiche della gym-tetris che sta subendo sporadiche modifiche nel tempo ma non vengono segnalate quasi da nessuna parte.\n",
        ">tetris_env i return. \\\\\n",
        ">il dict che era nelle info è stato commentato -> spiegare perché\n",
        "\n",
        "* Aggiungere da qualche parte tutta la miriade di link che sono su telegram in modo da averli pronti per la bibliografia e le note\n"
      ]
    },
    {
      "cell_type": "markdown",
      "metadata": {
        "id": "Of96GSz_XO0H",
        "colab_type": "text"
      },
      "source": [
        "# Codice"
      ]
    },
    {
      "cell_type": "code",
      "metadata": {
        "id": "77lwpDdBBrhf",
        "colab_type": "code",
        "colab": {}
      },
      "source": [
        "!pip install keras==2.3.1\n",
        "!pip install keras-rl\n",
        "!pip install gym-tetris\n",
        "!pip install nes-py\n",
        "!pip install tensorflow-gpu==2.0.0-beta1\n",
        "!pip install numpy==1.16.4"
      ],
      "execution_count": 0,
      "outputs": []
    },
    {
      "cell_type": "code",
      "metadata": {
        "id": "GmZhjOwjBXpu",
        "colab_type": "code",
        "colab": {}
      },
      "source": [
        "'''\n",
        "Print the path to file for modification of some stuff\n",
        "make # to row 186\n",
        "next update, edit the \"NoneType\" error.\n",
        "Probably the error is given when the env stop and return the next piece\n",
        "what a weird stuff\n",
        "'''\n",
        "import gym_tetris as gym\n",
        "print(gym.__path__)\n",
        "#Check if GPU is used\n",
        "import tensorflow as tf\n",
        "tf.test.gpu_device_name()\n",
        "\n",
        "from google.colab import drive\n",
        "drive.mount('/content/drive')\n"
      ],
      "execution_count": 0,
      "outputs": []
    },
    {
      "cell_type": "code",
      "metadata": {
        "colab_type": "code",
        "id": "CvbB405BvRk4",
        "outputId": "5492715f-8d30-44c2-a3b5-4afa350b524d",
        "colab": {
          "base_uri": "https://localhost:8080/",
          "height": 403
        }
      },
      "source": [
        "import sys\n",
        "import numpy as no\n",
        "\n",
        "from nes_py.wrappers import JoypadSpace\n",
        "import gym_tetris\n",
        "from gym_tetris.actions import MOVEMENT, SIMPLE_MOVEMENT\n",
        "\n",
        "from keras.models import Sequential, load_model\n",
        "from keras.layers import Dense, Activation, Flatten, Dropout\n",
        "from keras.optimizers import Adam\n",
        "\n",
        "from rl.agents.dqn import DQNAgent\n",
        "from rl.policy import EpsGreedyQPolicy, LinearAnnealedPolicy, BoltzmannQPolicy, BoltzmannGumbelQPolicy\n",
        "from rl.memory import SequentialMemory\n",
        "from rl.callbacks import FileLogger, ModelIntervalCheckpoint\n",
        "env = gym_tetris.make('TetrisA-v1')\n",
        "env = JoypadSpace(env, SIMPLE_MOVEMENT)\n",
        "\n",
        "\n",
        "#this can be the output range 0-6 for the move\n",
        "num_actions = env.action_space.n\n",
        "input_shape = (1,) + env.observation_space.shape\n",
        "\n",
        "print(\"Num actions: \", num_actions)\n",
        "\n",
        "#Build the NN\n",
        "model = Sequential()\n",
        "model.add(Flatten(input_shape=input_shape))\n",
        "model.add(Dense(32, activation='relu'))\n",
        "model.add(Dense(64, activation='relu'))\n",
        "model.add(Dense(512, activation='relu'))\n",
        "model.add(Dense(num_actions, activation='linear'))\n",
        "print(model.summary())\n"
      ],
      "execution_count": 0,
      "outputs": [
        {
          "output_type": "stream",
          "text": [
            "Using TensorFlow backend.\n"
          ],
          "name": "stderr"
        },
        {
          "output_type": "stream",
          "text": [
            "Num actions:  5\n",
            "Model: \"sequential_1\"\n",
            "_________________________________________________________________\n",
            "Layer (type)                 Output Shape              Param #   \n",
            "=================================================================\n",
            "flatten_1 (Flatten)          (None, 184320)            0         \n",
            "_________________________________________________________________\n",
            "dense_1 (Dense)              (None, 32)                5898272   \n",
            "_________________________________________________________________\n",
            "dense_2 (Dense)              (None, 64)                2112      \n",
            "_________________________________________________________________\n",
            "dense_3 (Dense)              (None, 512)               33280     \n",
            "_________________________________________________________________\n",
            "dense_4 (Dense)              (None, 5)                 2565      \n",
            "=================================================================\n",
            "Total params: 5,936,229\n",
            "Trainable params: 5,936,229\n",
            "Non-trainable params: 0\n",
            "_________________________________________________________________\n",
            "None\n"
          ],
          "name": "stdout"
        }
      ]
    },
    {
      "cell_type": "code",
      "metadata": {
        "id": "14ZkK7nBqWJL",
        "colab_type": "code",
        "colab": {}
      },
      "source": [
        "policy = BoltzmannGumbelQPolicy()\n",
        "memory= SequentialMemory(limit=50000, window_length = 1)\n",
        "dqn = DQNAgent(model = model, nb_actions = num_actions , memory=memory, train_interval=4,\n",
        "               nb_steps_warmup=5000, target_model_update=10000, policy=policy)\n",
        "\n",
        "dqn.compile(Adam(lr=1e-4), metrics=['mae'])\n",
        "dqn.fit(env, nb_steps=500000, visualize=False, log_interval=50000)\n",
        "\n",
        "weights_filename = '/content/drive/My Drive/Colab Notebooks/dqn_{}_weights.h5f'.format(\"gym_tetris\")\n",
        "dqn.save_weights(weights_filename, overwrite=True)"
      ],
      "execution_count": 0,
      "outputs": []
    },
    {
      "cell_type": "code",
      "metadata": {
        "id": "W5ksDILpylWt",
        "colab_type": "code",
        "colab": {}
      },
      "source": [
        "#@title Reopen\n",
        "#reopen the fit function but i'm not quite sure for that\n",
        "weights_filename= '/content/dqn_{}_weights.h5f'.format('gym_tetris')\n",
        "dqn.load_weights(weights_filename)\n",
        "dqn.fit(env, nb_steps=500000, visualize=False, log_interval=50000)\n",
        "dqn.save_weights(weights_filename, overwrite=True)\n"
      ],
      "execution_count": 0,
      "outputs": []
    },
    {
      "cell_type": "code",
      "metadata": {
        "id": "ymkrZ2RnvJQl",
        "colab_type": "code",
        "colab": {}
      },
      "source": [
        "#@title Reload \n",
        "#Reload the weight and make test\n",
        "\n",
        "policy = BoltzmannQPolicy()\n",
        "memory= SequentialMemory(limit=50000, window_length = 1)\n",
        "\n",
        "weights_filename= '/content/dqn_{}_weights.h5f'.format('gym_tetris')\n",
        "dqn.load_weights(weights_filename)\n",
        "nb_episodes = 5 \n",
        "\n",
        "dqn.test(env,nb_episodes=nb_episodes,visualize=False)"
      ],
      "execution_count": 0,
      "outputs": []
    },
    {
      "cell_type": "code",
      "metadata": {
        "id": "k6bOKpx5dQPU",
        "colab_type": "code",
        "colab": {}
      },
      "source": [
        ""
      ],
      "execution_count": 0,
      "outputs": []
    }
  ]
}