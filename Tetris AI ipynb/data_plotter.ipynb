{
 "cells": [
  {
   "cell_type": "code",
   "execution_count": 3,
   "metadata": {},
   "outputs": [],
   "source": [
    "def write_log(stringa):\n",
    "    with open(\"toPlot.txt\", \"a\") as file_object:\n",
    "        file_object.write(stringa)\n",
    "        file_object.close()\n",
    "        \n",
    "def ma(model, env,num, episode ):\n",
    "    obs = env.reset()\n",
    "    step = 0\n",
    "    episode_rewards = 0\n",
    "    string = \"\"\n",
    "    i = 1\n",
    "    while i <= episode:\n",
    "        step=step+1\n",
    "        action, _states = model.predict(obs)\n",
    "        obs, rewards, dones, info = env.step(action)\n",
    "        episode_rewards += rewards\n",
    "        if dones[0]:\n",
    "            string = string + \"========================================================\\n\" + str(num) + \"\\n\"\n",
    "            string = string + \"ep , n_linee  ,   score   , Env rewards , step fatti \\n\"\n",
    "            string = string + str(i) +  \" , \" + str(info[0]['number_of_lines']) +  \" , \" + str(info[0]['score']) +  \" , \" + str(episode_rewards[0]) +  \" , \" +  str(step) + \"\\n\"\n",
    "            string = string + \"========================================================\\n\"\n",
    "            i=i+1\n",
    "            episode_rewards = 0\n",
    "            obs = env.reset()\n",
    "            write_log(string)\n",
    "            string = \"\""
   ]
  },
  {
   "cell_type": "code",
   "execution_count": 5,
   "metadata": {
    "scrolled": false
   },
   "outputs": [
    {
     "name": "stdout",
     "output_type": "stream",
     "text": [
      "WARNING:tensorflow:From /home/polticchia/test_baseline/lib/python3.6/site-packages/tensorflow/python/framework/op_def_library.py:263: colocate_with (from tensorflow.python.framework.ops) is deprecated and will be removed in a future version.\n",
      "Instructions for updating:\n",
      "Colocations handled automatically by placer.\n",
      "WARNING:tensorflow:From /home/polticchia/test_baseline/lib/python3.6/site-packages/tensorflow/python/ops/math_ops.py:3066: to_int32 (from tensorflow.python.ops.math_ops) is deprecated and will be removed in a future version.\n",
      "Instructions for updating:\n",
      "Use tf.cast instead.\n",
      "test num : 200\n",
      "test num : 300\n",
      "test num : 400\n",
      "test num : 500\n",
      "test num : 600\n",
      "test num : 700\n",
      "test num : 800\n",
      "test num : 900\n",
      "test num : 1000\n",
      "fine\n"
     ]
    }
   ],
   "source": [
    "import gym\n",
    "import numpy as np\n",
    "import warnings\n",
    "warnings.simplefilter(action='ignore', category=FutureWarning)\n",
    "warnings.simplefilter(action='ignore', category=Warning)\n",
    "\n",
    "from nes_py.wrappers import JoypadSpace\n",
    "import gym_tetris\n",
    "from gym_tetris.actions import TRAIN_MOVEMENT\n",
    "from stable_baselines.common.vec_env import DummyVecEnv\n",
    "from stable_baselines.deepq.policies import MlpPolicy\n",
    "from stable_baselines import DQN\n",
    "\n",
    "\n",
    "env = gym_tetris.make('TetrisA-v2')\n",
    "env = JoypadSpace(env, TRAIN_MOVEMENT)\n",
    "env = DummyVecEnv([lambda: env])\n",
    "for num in [200,300,400,500,600,700,800,900,1000]:\n",
    "    model = DQN.load(\"TetrisA-v2_DQN_\" + str(num) + \"k\", env=env)\n",
    "    print(\"test num : \" + str(num))\n",
    "    ma(model=model, env=env,num=num, episode=2)\n",
    "    del model\n",
    "print(\"fine\")"
   ]
  }
 ],
 "metadata": {
  "kernelspec": {
   "display_name": "test_baseline",
   "language": "python",
   "name": "test_baseline"
  },
  "language_info": {
   "codemirror_mode": {
    "name": "ipython",
    "version": 3
   },
   "file_extension": ".py",
   "mimetype": "text/x-python",
   "name": "python",
   "nbconvert_exporter": "python",
   "pygments_lexer": "ipython3",
   "version": "3.6.8"
  }
 },
 "nbformat": 4,
 "nbformat_minor": 2
}
