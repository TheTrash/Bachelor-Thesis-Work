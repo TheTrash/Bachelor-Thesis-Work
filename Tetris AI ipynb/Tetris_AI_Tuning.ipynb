{
 "cells": [
  {
   "cell_type": "code",
   "execution_count": null,
   "metadata": {
    "colab": {},
    "colab_type": "code",
    "id": "Qdr8Mj2oaeNc",
    "scrolled": true
   },
   "outputs": [
    {
     "name": "stdout",
     "output_type": "stream",
     "text": [
      "Start  TetrisA-v2\n"
     ]
    }
   ],
   "source": [
    "from nes_py.wrappers import JoypadSpace\n",
    "\n",
    "import gym_tetris\n",
    "from gym_tetris.actions import MOVEMENT, SIMPLE_MOVEMENT , TRAIN_MOVEMENT, TRAIN_NODOWN\n",
    "from stable_baselines.common.vec_env import DummyVecEnv\n",
    "from stable_baselines.deepq.policies import MlpPolicy, CnnPolicy\n",
    "from stable_baselines import DQN\n",
    "\n",
    "total_steps = 220\n",
    "\n",
    "mode = 'TetrisA-v2'\n",
    "\n",
    "env = gym_tetris.make(mode)\n",
    "env = JoypadSpace(env, TRAIN_NODOWN)\n",
    "env = DummyVecEnv([lambda: env])\n",
    "\n",
    "\n",
    "#model = DQN(CnnPolicy,env,verbose=1,learning_starts=1000,double_q= True,target_network_update_freq=500,prioritized_replay=True,n_cpu_tf_sess =1)\n",
    "model = DQN.load(\"TetrisA-v2_DQN_\" + str(total_steps) + \"k\",env)\n",
    "\n",
    "telegram_callback(\"Run \" + mode + \"\\nStarted with \"+str(total_steps)+\"k\\nNews rate 5k\")\n",
    "write_log(\"\\nRun \" + mode + \"\\nStarted with \"+str(total_steps)+\"k\\n\")\n",
    "print(\"Start \", mode)\n",
    "model.learn(total_timesteps=20000, callback=callback)\n",
    "telegram_callback(\"Finish \" + mode)\n",
    "write_log(\"\\nrun finished\\n\")\n",
    "\n",
    "total_steps = total_steps + 20\n",
    "\n",
    "model.save(str(mode) + \"_DQN_\"+str(total_steps)+\"k\")\n",
    "del model"
   ]
  },
  {
   "cell_type": "code",
   "execution_count": 1,
   "metadata": {
    "colab": {},
    "colab_type": "code",
    "id": "pD0ERcG5V-Yi"
   },
   "outputs": [],
   "source": [
    "def callback(_locals, _globals):\n",
    "    if _locals['_']%5000 == 0 and _locals['_'] != 0:\n",
    "        string = \"Steps: \" + str(_locals['_']) + \"\\n\"\n",
    "        string = string + \"Num_episodes: \" + str( _locals['num_episodes']) + \"\\n\"\n",
    "        string = string + \"episode rewards: \" +  str( _locals['episode_rewards']) + \"\\n\"\n",
    "        string = string + \"mean 100ep reward: \" + str( _locals['mean_100ep_reward']) + \"\\n\" \n",
    "        string = string + \"Number of Lines: \" + str(_locals['info']['number_of_lines'])\n",
    "        telegram_callback(string)\n",
    "    if _locals['_'] == 19999:\n",
    "        string = \"Steps: \" + str(_locals['_']) + \"\\n\"\n",
    "        string = string + \"Num_episodes: \" + str( _locals['num_episodes']) + \"\\n\"\n",
    "        string = string + \"episode rewards: \" +  str( _locals['episode_rewards']) + \"\\n\"\n",
    "        string = string + \"mean 100ep reward: \" + str( _locals['mean_100ep_reward']) + \"\\n\" \n",
    "        string = string + \"Number of Lines: \" + str(_locals['info']['number_of_lines'])\n",
    "        telegram_callback(\"Sto scrivendo il file di log\")\n",
    "        write_log(string)\n",
    "        \n",
    "    return True # returns True, training continues.\n",
    "\n",
    "import requests\n",
    "def telegram_callback(info):\n",
    "    url = 'https://api.telegram.org/bot492292061:AAG4jkzWV_SIIN1pTZS2oJcG9mu5h3ZEEvY/sendMessage'\n",
    "    callback_info = {\n",
    "        'chat_id': '32425319',\n",
    "        'text' : info\n",
    "        }\n",
    "    x = requests.post(url, data = callback_info)\n",
    "    \n",
    "def write_log(stringa):\n",
    "    with open(\"file_log_terzo_test.txt\", \"a\") as file_object:\n",
    "        file_object.write(stringa)\n",
    "        file_object.close()"
   ]
  },
  {
   "cell_type": "code",
   "execution_count": null,
   "metadata": {},
   "outputs": [],
   "source": []
  }
 ],
 "metadata": {
  "accelerator": "GPU",
  "colab": {
   "collapsed_sections": [],
   "name": "Untitled",
   "provenance": []
  },
  "kernelspec": {
   "display_name": "test_baseline",
   "language": "python",
   "name": "test_baseline"
  },
  "language_info": {
   "codemirror_mode": {
    "name": "ipython",
    "version": 3
   },
   "file_extension": ".py",
   "mimetype": "text/x-python",
   "name": "python",
   "nbconvert_exporter": "python",
   "pygments_lexer": "ipython3",
   "version": "3.6.8"
  }
 },
 "nbformat": 4,
 "nbformat_minor": 1
}
