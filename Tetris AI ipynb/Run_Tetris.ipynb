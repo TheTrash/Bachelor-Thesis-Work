{
 "cells": [
  {
   "cell_type": "code",
   "execution_count": 4,
   "metadata": {
    "scrolled": true
   },
   "outputs": [
    {
     "name": "stdout",
     "output_type": "stream",
     "text": [
      "Num_lines: 0\n",
      "score: 10\n",
      "Number of episodes:  1\n",
      "Number of Step 11742\n",
      "============================\n",
      "Num_lines: 0\n",
      "score: 0\n",
      "Number of episodes:  2\n",
      "Number of Step 17783\n",
      "============================\n",
      "Num_lines: 0\n",
      "score: 15\n",
      "Number of episodes:  3\n",
      "Number of Step 27346\n",
      "============================\n",
      "Num_lines: 0\n",
      "score: 14\n",
      "Number of episodes:  4\n",
      "Number of Step 33186\n",
      "============================\n",
      "Num_lines: 0\n",
      "score: 7\n",
      "Number of episodes:  5\n",
      "Number of Step 38019\n",
      "============================\n",
      "Mean reward: [-8.833333] Num episodes: 6 \n",
      "Single Reward:  [-10.0, array([-20.], dtype=float32), array([-5.], dtype=float32), array([-5.], dtype=float32), array([-13.], dtype=float32), array([0.], dtype=float32)]\n"
     ]
    }
   ],
   "source": [
    "import gym\n",
    "import numpy as np\n",
    "import warnings\n",
    "warnings.simplefilter(action='ignore', category=FutureWarning)\n",
    "warnings.simplefilter(action='ignore', category=Warning)\n",
    "\n",
    "from nes_py.wrappers import JoypadSpace\n",
    "import gym_tetris\n",
    "from gym_tetris.actions import MOVEMENT, SIMPLE_MOVEMENT, TRAIN_MOVEMENT\n",
    "from stable_baselines.common.vec_env import DummyVecEnv\n",
    "from stable_baselines.deepq.policies import MlpPolicy\n",
    "from stable_baselines import DQN\n",
    "\n",
    "env = gym_tetris.make('TetrisA-v2')\n",
    "env = JoypadSpace(env, TRAIN_MOVEMENT)\n",
    "env = DummyVecEnv([lambda: env])\n",
    "\n",
    "model = DQN.load(\"TetrisA-v2_DQN_240k\", env=env)\n",
    "\n",
    "mean_reward = evaluate(model=model, env=env, episode=5)"
   ]
  },
  {
   "cell_type": "code",
   "execution_count": 2,
   "metadata": {},
   "outputs": [],
   "source": [
    "def evaluate(model, env, episode, render = False):\n",
    "    episode_rewards = [0.0]\n",
    "    obs = env.reset()\n",
    "    step = 0\n",
    "    i = 1\n",
    "    while i <= episode:\n",
    "        step=step+1\n",
    "        action, _states = model.predict(obs)\n",
    "        obs, rewards, dones, info = env.step(action)\n",
    "        if render:\n",
    "            env.render()\n",
    "        episode_rewards[-1] += rewards[0]\n",
    "        if dones[0]:\n",
    "            print(\"Num_lines: \" + str(info[0]['number_of_lines']))\n",
    "            print(\"score: \" + str(info[0]['score']))\n",
    "            print(\"Number of episodes: \", i)\n",
    "            print(\"Number of Step\", step)\n",
    "            print(\"============================\")\n",
    "            #print(\"statistics: \" , info[0]['statistics'])\n",
    "            i=i+1\n",
    "            obs = env.reset()\n",
    "            episode_rewards.append(rewards)\n",
    "\n",
    " \n",
    "    mean_100ep_reward = np.mean(episode_rewards[-100:])\n",
    "    print(\"Mean reward:\", mean_100ep_reward, \"Num episodes:\", len(episode_rewards), \"\\nSingle Reward: \", episode_rewards )\n",
    "  \n",
    "    return mean_100ep_reward\n"
   ]
  },
  {
   "cell_type": "code",
   "execution_count": null,
   "metadata": {},
   "outputs": [],
   "source": []
  }
 ],
 "metadata": {
  "kernelspec": {
   "display_name": "test_baseline",
   "language": "python",
   "name": "test_baseline"
  },
  "language_info": {
   "codemirror_mode": {
    "name": "ipython",
    "version": 3
   },
   "file_extension": ".py",
   "mimetype": "text/x-python",
   "name": "python",
   "nbconvert_exporter": "python",
   "pygments_lexer": "ipython3",
   "version": "3.6.8"
  }
 },
 "nbformat": 4,
 "nbformat_minor": 2
}
